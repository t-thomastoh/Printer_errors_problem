{
 "cells": [
  {
   "cell_type": "markdown",
   "metadata": {},
   "source": [
    "## Manual date insertion"
   ]
  },
  {
   "cell_type": "code",
   "execution_count": 1,
   "metadata": {},
   "outputs": [
    {
     "name": "stdout",
     "output_type": "stream",
     "text": [
      "16 years, total 5844 days\n"
     ]
    }
   ],
   "source": [
    "import datetime\n",
    "from dateutil.relativedelta import relativedelta\n",
    "\n",
    "begin = datetime.datetime(2000, 1, 1)\n",
    "end = datetime.datetime(2016, 1, 1)\n",
    "\n",
    "\n",
    "days = end - begin\n",
    "#Look into what is relativedelta\n",
    "year = relativedelta(end, begin)\n",
    "print (str(year.years) + ' years' + ', ' + 'total ' + str(days.days) +' days')"
   ]
  },
  {
   "cell_type": "markdown",
   "metadata": {},
   "source": [
    "## Dynamic date insertion"
   ]
  },
  {
   "cell_type": "code",
   "execution_count": null,
   "metadata": {},
   "outputs": [],
   "source": [
    "import datetime\n",
    "from dateutil.relativedelta import relativedelta\n",
    "\n",
    "begin = input('d.m.yyyy: ')\n",
    "begin = begin.split('.')\n",
    "\n",
    "begin_day = int(begin[0])\n",
    "begin_month = int(begin[1])\n",
    "begin_year = int(begin[-1])\n",
    "\n",
    "end = input('d.m.yyyy: ')\n",
    "end = end.split('.')\n",
    "\n",
    "end_day = int(end[0])\n",
    "end_month = int(end[1])\n",
    "end_year = int(end[-1])\n",
    "\n",
    "begin = datetime.datetime(begin_year, begin_month, begin_day)\n",
    "end = datetime.datetime(end_year, end_month, end_day)\n",
    "\n",
    "#Look into what is relativedelta\n",
    "date_calculator = relativedelta(end, begin)\n",
    "print (str(date_calculator.years) + ' years' + ', ' + 'total ' + str(date_calculator.days) +' days')"
   ]
  },
  {
   "cell_type": "markdown",
   "metadata": {},
   "source": [
    "## Solution 2. Shorten version"
   ]
  },
  {
   "cell_type": "code",
   "execution_count": null,
   "metadata": {},
   "outputs": [],
   "source": [
    "begin_date = input('yyyy.mm.dd: ')\n",
    "year, month, day = map(int, begin_date.split('.'))\n",
    "begin_date = datetime.date(year, month, day)\n",
    "\n",
    "end_date = input('yyyy.mm.dd: ')\n",
    "year, month, day = map(int, end_date.split('.'))\n",
    "end_date = datetime.date(year, month, day)\n",
    "\n",
    "date_calculator = relativedelta(end_date, begin_date)\n",
    "print (str(date_calculator.years) + ' years' + ', ' + 'total ' + str(date_calculator.days) +' days')"
   ]
  },
  {
   "cell_type": "markdown",
   "metadata": {},
   "source": [
    "## Solution 3. Working with function"
   ]
  },
  {
   "cell_type": "code",
   "execution_count": null,
   "metadata": {},
   "outputs": [],
   "source": [
    "def date_converter(dates):\n",
    "    year, month, day = map(int, dates.split('.'))\n",
    "    dates = datetime.date(year, month, day)\n",
    "    return dates\n",
    "\n",
    "begin_date = date_converter(input('yyyy.mm.dd: '))\n",
    "end_date = date_converter(input('yyyy.mm.dd: '))\n",
    "\n",
    "date_calculator = relativedelta(end_date, begin_date)\n",
    "print (str(date_calculator.years) + ' years' + ', ' + 'total ' + str(date_calculator.days) +' days')"
   ]
  },
  {
   "cell_type": "code",
   "execution_count": null,
   "metadata": {},
   "outputs": [],
   "source": []
  }
 ],
 "metadata": {
  "kernelspec": {
   "display_name": "Python 3",
   "language": "python",
   "name": "python3"
  },
  "language_info": {
   "codemirror_mode": {
    "name": "ipython",
    "version": 3
   },
   "file_extension": ".py",
   "mimetype": "text/x-python",
   "name": "python",
   "nbconvert_exporter": "python",
   "pygments_lexer": "ipython3",
   "version": "3.7.3"
  }
 },
 "nbformat": 4,
 "nbformat_minor": 2
}
