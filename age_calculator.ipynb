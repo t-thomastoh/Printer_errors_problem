{
 "cells": [
  {
   "cell_type": "markdown",
   "metadata": {},
   "source": [
    "## Manual date insertion"
   ]
  },
  {
   "cell_type": "code",
   "execution_count": 1,
   "metadata": {},
   "outputs": [
    {
     "name": "stdout",
     "output_type": "stream",
     "text": [
      "16 years, total 5844 days\n"
     ]
    }
   ],
   "source": [
    "import datetime\n",
    "from dateutil.relativedelta import relativedelta\n",
    "\n",
    "begin = datetime.datetime(2000, 1, 1)\n",
    "end = datetime.datetime(2016, 1, 1)\n",
    "\n",
    "\n",
    "days = end - begin\n",
    "#Look into what is relativedelta\n",
    "year = relativedelta(end, begin)\n",
    "print (str(year.years) + ' years' + ', ' + 'total ' + str(days.days) +' days')"
   ]
  },
  {
   "cell_type": "markdown",
   "metadata": {},
   "source": [
    "## Dynamic date insertion"
   ]
  },
  {
   "cell_type": "code",
   "execution_count": null,
   "metadata": {},
   "outputs": [],
   "source": [
    "import datetime\n",
    "from dateutil.relativedelta import relativedelta\n",
    "\n",
    "begin = input('d.m.yyyy: ')\n",
    "begin = begin.split('.')\n",
    "\n",
    "begin_day = int(begin[0])\n",
    "begin_month = int(begin[1])\n",
    "begin_year = int(begin[-1])\n",
    "\n",
    "end = input('d.m.yyyy: ')\n",
    "end = end.split('.')\n",
    "\n",
    "end_day = int(end[0])\n",
    "end_month = int(end[1])\n",
    "end_year = int(end[-1])\n",
    "\n",
    "begin = datetime.datetime(begin_year, begin_month, begin_day)\n",
    "end = datetime.datetime(end_year, end_month, end_day)\n",
    "\n",
    "days = end - begin\n",
    "#Look into what is relativedelta\n",
    "year = relativedelta(end, begin)\n",
    "print (str(year.years) + ' years' + ', ' + 'total ' + str(days.days) +' days')"
   ]
  }
 ],
 "metadata": {
  "kernelspec": {
   "display_name": "Python 3",
   "language": "python",
   "name": "python3"
  },
  "language_info": {
   "codemirror_mode": {
    "name": "ipython",
    "version": 3
   },
   "file_extension": ".py",
   "mimetype": "text/x-python",
   "name": "python",
   "nbconvert_exporter": "python",
   "pygments_lexer": "ipython3",
   "version": "3.7.3"
  }
 },
 "nbformat": 4,
 "nbformat_minor": 2
}
