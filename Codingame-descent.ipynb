{
 "cells": [
  {
   "cell_type": "markdown",
   "metadata": {},
   "source": [
    "The mission of the puzzle is for the spaceship to destroy the highest mountain while descending."
   ]
  },
  {
   "cell_type": "markdown",
   "metadata": {},
   "source": [
    "## Solution"
   ]
  },
  {
   "cell_type": "code",
   "execution_count": null,
   "metadata": {},
   "outputs": [],
   "source": [
    "# game loop\n",
    "while True:\n",
    "    mountain_h = 0\n",
    "    mountainh_index = 0\n",
    "    highest_mountain = 0\n",
    "    \n",
    "    for i in range(8):\n",
    "        mountain_h = int(input())  # represents the height of one mountain.\n",
    "        # i and mountain_h are assigned by now. \n",
    "        #Next is to find out how it's being assign.        \n",
    "        if mountain_h > highest_mountain:\n",
    "            mountainh_index = i \n",
    "            highest_mountain = mountain_h\n",
    "\n",
    "    # The index of the mountain to fire on.\n",
    "    print(mountainh_index)"
   ]
  }
 ],
 "metadata": {
  "kernelspec": {
   "display_name": "Python 3",
   "language": "python",
   "name": "python3"
  },
  "language_info": {
   "codemirror_mode": {
    "name": "ipython",
    "version": 3
   },
   "file_extension": ".py",
   "mimetype": "text/x-python",
   "name": "python",
   "nbconvert_exporter": "python",
   "pygments_lexer": "ipython3",
   "version": "3.7.3"
  }
 },
 "nbformat": 4,
 "nbformat_minor": 2
}
